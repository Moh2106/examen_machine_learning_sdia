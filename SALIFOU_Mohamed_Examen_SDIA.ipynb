{
 "cells": [
  {
   "cell_type": "markdown",
   "id": "666dbcfd",
   "metadata": {},
   "source": [
    "# Partie 1"
   ]
  },
  {
   "cell_type": "code",
   "execution_count": 2,
   "id": "2e6ecbc9",
   "metadata": {},
   "outputs": [],
   "source": [
    "#importer les librairies ---SALIFOU Mohamed---\n",
    "import numpy as np\n",
    "import matplotlib.pyplot as plt\n",
    "import pandas as pd"
   ]
  },
  {
   "cell_type": "code",
   "execution_count": 3,
   "id": "f2258221",
   "metadata": {},
   "outputs": [],
   "source": [
    "#importer le dataset  ---SALIFOU Mohamed---\n",
    "dataset = pd.read_csv(\".././dataset/occupancy.csv\")"
   ]
  },
  {
   "cell_type": "code",
   "execution_count": 4,
   "id": "9e5815b7",
   "metadata": {},
   "outputs": [
    {
     "data": {
      "text/html": [
       "<div>\n",
       "<style scoped>\n",
       "    .dataframe tbody tr th:only-of-type {\n",
       "        vertical-align: middle;\n",
       "    }\n",
       "\n",
       "    .dataframe tbody tr th {\n",
       "        vertical-align: top;\n",
       "    }\n",
       "\n",
       "    .dataframe thead th {\n",
       "        text-align: right;\n",
       "    }\n",
       "</style>\n",
       "<table border=\"1\" class=\"dataframe\">\n",
       "  <thead>\n",
       "    <tr style=\"text-align: right;\">\n",
       "      <th></th>\n",
       "      <th>date</th>\n",
       "      <th>Temperature</th>\n",
       "      <th>Humidity</th>\n",
       "      <th>Light</th>\n",
       "      <th>CO2</th>\n",
       "      <th>HumidityRatio</th>\n",
       "      <th>Occupancy</th>\n",
       "    </tr>\n",
       "  </thead>\n",
       "  <tbody>\n",
       "    <tr>\n",
       "      <th>140</th>\n",
       "      <td>2015-02-02 14:19:00</td>\n",
       "      <td>23.700000</td>\n",
       "      <td>26.272000</td>\n",
       "      <td>585.200000</td>\n",
       "      <td>749.200000</td>\n",
       "      <td>0.004764</td>\n",
       "      <td>1</td>\n",
       "    </tr>\n",
       "    <tr>\n",
       "      <th>141</th>\n",
       "      <td>2015-02-02 14:19:59</td>\n",
       "      <td>23.718000</td>\n",
       "      <td>26.290000</td>\n",
       "      <td>578.400000</td>\n",
       "      <td>760.400000</td>\n",
       "      <td>0.004773</td>\n",
       "      <td>1</td>\n",
       "    </tr>\n",
       "    <tr>\n",
       "      <th>142</th>\n",
       "      <td>2015-02-02 14:21:00</td>\n",
       "      <td>23.730000</td>\n",
       "      <td>26.230000</td>\n",
       "      <td>572.666667</td>\n",
       "      <td>769.666667</td>\n",
       "      <td>0.004765</td>\n",
       "      <td>1</td>\n",
       "    </tr>\n",
       "    <tr>\n",
       "      <th>143</th>\n",
       "      <td>2015-02-02 14:22:00</td>\n",
       "      <td>23.722500</td>\n",
       "      <td>26.125000</td>\n",
       "      <td>493.750000</td>\n",
       "      <td>774.750000</td>\n",
       "      <td>0.004744</td>\n",
       "      <td>1</td>\n",
       "    </tr>\n",
       "    <tr>\n",
       "      <th>144</th>\n",
       "      <td>2015-02-02 14:23:00</td>\n",
       "      <td>23.754000</td>\n",
       "      <td>26.200000</td>\n",
       "      <td>488.600000</td>\n",
       "      <td>779.000000</td>\n",
       "      <td>0.004767</td>\n",
       "      <td>1</td>\n",
       "    </tr>\n",
       "    <tr>\n",
       "      <th>...</th>\n",
       "      <td>...</td>\n",
       "      <td>...</td>\n",
       "      <td>...</td>\n",
       "      <td>...</td>\n",
       "      <td>...</td>\n",
       "      <td>...</td>\n",
       "      <td>...</td>\n",
       "    </tr>\n",
       "    <tr>\n",
       "      <th>2800</th>\n",
       "      <td>2015-02-04 10:38:59</td>\n",
       "      <td>24.290000</td>\n",
       "      <td>25.700000</td>\n",
       "      <td>808.000000</td>\n",
       "      <td>1150.250000</td>\n",
       "      <td>0.004829</td>\n",
       "      <td>1</td>\n",
       "    </tr>\n",
       "    <tr>\n",
       "      <th>2801</th>\n",
       "      <td>2015-02-04 10:40:00</td>\n",
       "      <td>24.330000</td>\n",
       "      <td>25.736000</td>\n",
       "      <td>809.800000</td>\n",
       "      <td>1129.200000</td>\n",
       "      <td>0.004848</td>\n",
       "      <td>1</td>\n",
       "    </tr>\n",
       "    <tr>\n",
       "      <th>2802</th>\n",
       "      <td>2015-02-04 10:40:59</td>\n",
       "      <td>24.330000</td>\n",
       "      <td>25.700000</td>\n",
       "      <td>817.000000</td>\n",
       "      <td>1125.800000</td>\n",
       "      <td>0.004841</td>\n",
       "      <td>1</td>\n",
       "    </tr>\n",
       "    <tr>\n",
       "      <th>2803</th>\n",
       "      <td>2015-02-04 10:41:59</td>\n",
       "      <td>24.356667</td>\n",
       "      <td>25.700000</td>\n",
       "      <td>813.000000</td>\n",
       "      <td>1123.000000</td>\n",
       "      <td>0.004849</td>\n",
       "      <td>1</td>\n",
       "    </tr>\n",
       "    <tr>\n",
       "      <th>2804</th>\n",
       "      <td>2015-02-04 10:43:00</td>\n",
       "      <td>24.408333</td>\n",
       "      <td>25.681667</td>\n",
       "      <td>798.000000</td>\n",
       "      <td>1124.000000</td>\n",
       "      <td>0.004860</td>\n",
       "      <td>1</td>\n",
       "    </tr>\n",
       "  </tbody>\n",
       "</table>\n",
       "<p>2665 rows × 7 columns</p>\n",
       "</div>"
      ],
      "text/plain": [
       "                     date  Temperature   Humidity       Light          CO2  \\\n",
       "140   2015-02-02 14:19:00    23.700000  26.272000  585.200000   749.200000   \n",
       "141   2015-02-02 14:19:59    23.718000  26.290000  578.400000   760.400000   \n",
       "142   2015-02-02 14:21:00    23.730000  26.230000  572.666667   769.666667   \n",
       "143   2015-02-02 14:22:00    23.722500  26.125000  493.750000   774.750000   \n",
       "144   2015-02-02 14:23:00    23.754000  26.200000  488.600000   779.000000   \n",
       "...                   ...          ...        ...         ...          ...   \n",
       "2800  2015-02-04 10:38:59    24.290000  25.700000  808.000000  1150.250000   \n",
       "2801  2015-02-04 10:40:00    24.330000  25.736000  809.800000  1129.200000   \n",
       "2802  2015-02-04 10:40:59    24.330000  25.700000  817.000000  1125.800000   \n",
       "2803  2015-02-04 10:41:59    24.356667  25.700000  813.000000  1123.000000   \n",
       "2804  2015-02-04 10:43:00    24.408333  25.681667  798.000000  1124.000000   \n",
       "\n",
       "      HumidityRatio  Occupancy  \n",
       "140        0.004764          1  \n",
       "141        0.004773          1  \n",
       "142        0.004765          1  \n",
       "143        0.004744          1  \n",
       "144        0.004767          1  \n",
       "...             ...        ...  \n",
       "2800       0.004829          1  \n",
       "2801       0.004848          1  \n",
       "2802       0.004841          1  \n",
       "2803       0.004849          1  \n",
       "2804       0.004860          1  \n",
       "\n",
       "[2665 rows x 7 columns]"
      ]
     },
     "execution_count": 4,
     "metadata": {},
     "output_type": "execute_result"
    }
   ],
   "source": [
    "#vérifier que le dataset a été bien importé  ---SALIFOU Mohamed---\n",
    "dataset"
   ]
  },
  {
   "cell_type": "code",
   "execution_count": 5,
   "id": "6694cb4d",
   "metadata": {},
   "outputs": [
    {
     "name": "stdout",
     "output_type": "stream",
     "text": [
      "<class 'pandas.core.frame.DataFrame'>\n",
      "Int64Index: 2665 entries, 140 to 2804\n",
      "Data columns (total 7 columns):\n",
      " #   Column         Non-Null Count  Dtype  \n",
      "---  ------         --------------  -----  \n",
      " 0   date           2665 non-null   object \n",
      " 1   Temperature    2665 non-null   float64\n",
      " 2   Humidity       2665 non-null   float64\n",
      " 3   Light          2665 non-null   float64\n",
      " 4   CO2            2665 non-null   float64\n",
      " 5   HumidityRatio  2665 non-null   float64\n",
      " 6   Occupancy      2665 non-null   int64  \n",
      "dtypes: float64(5), int64(1), object(1)\n",
      "memory usage: 166.6+ KB\n"
     ]
    }
   ],
   "source": [
    "#Vérifier les infos du dataset\n",
    "dataset.info()"
   ]
  },
  {
   "cell_type": "code",
   "execution_count": 47,
   "id": "278e9938",
   "metadata": {},
   "outputs": [],
   "source": [
    "#Extraire les données qu'on aura a utilisé  ---SALIFOU Mohamed---\n",
    "X_extract = dataset[[\"Temperature\",\"Humidity\",\"Light\",\"HumidityRatio\"]]"
   ]
  },
  {
   "cell_type": "code",
   "execution_count": 48,
   "id": "bf4a54a5",
   "metadata": {},
   "outputs": [
    {
     "data": {
      "text/html": [
       "<div>\n",
       "<style scoped>\n",
       "    .dataframe tbody tr th:only-of-type {\n",
       "        vertical-align: middle;\n",
       "    }\n",
       "\n",
       "    .dataframe tbody tr th {\n",
       "        vertical-align: top;\n",
       "    }\n",
       "\n",
       "    .dataframe thead th {\n",
       "        text-align: right;\n",
       "    }\n",
       "</style>\n",
       "<table border=\"1\" class=\"dataframe\">\n",
       "  <thead>\n",
       "    <tr style=\"text-align: right;\">\n",
       "      <th></th>\n",
       "      <th>Temperature</th>\n",
       "      <th>Humidity</th>\n",
       "      <th>Light</th>\n",
       "      <th>HumidityRatio</th>\n",
       "    </tr>\n",
       "  </thead>\n",
       "  <tbody>\n",
       "    <tr>\n",
       "      <th>140</th>\n",
       "      <td>23.700000</td>\n",
       "      <td>26.272000</td>\n",
       "      <td>585.200000</td>\n",
       "      <td>0.004764</td>\n",
       "    </tr>\n",
       "    <tr>\n",
       "      <th>141</th>\n",
       "      <td>23.718000</td>\n",
       "      <td>26.290000</td>\n",
       "      <td>578.400000</td>\n",
       "      <td>0.004773</td>\n",
       "    </tr>\n",
       "    <tr>\n",
       "      <th>142</th>\n",
       "      <td>23.730000</td>\n",
       "      <td>26.230000</td>\n",
       "      <td>572.666667</td>\n",
       "      <td>0.004765</td>\n",
       "    </tr>\n",
       "    <tr>\n",
       "      <th>143</th>\n",
       "      <td>23.722500</td>\n",
       "      <td>26.125000</td>\n",
       "      <td>493.750000</td>\n",
       "      <td>0.004744</td>\n",
       "    </tr>\n",
       "    <tr>\n",
       "      <th>144</th>\n",
       "      <td>23.754000</td>\n",
       "      <td>26.200000</td>\n",
       "      <td>488.600000</td>\n",
       "      <td>0.004767</td>\n",
       "    </tr>\n",
       "    <tr>\n",
       "      <th>...</th>\n",
       "      <td>...</td>\n",
       "      <td>...</td>\n",
       "      <td>...</td>\n",
       "      <td>...</td>\n",
       "    </tr>\n",
       "    <tr>\n",
       "      <th>2800</th>\n",
       "      <td>24.290000</td>\n",
       "      <td>25.700000</td>\n",
       "      <td>808.000000</td>\n",
       "      <td>0.004829</td>\n",
       "    </tr>\n",
       "    <tr>\n",
       "      <th>2801</th>\n",
       "      <td>24.330000</td>\n",
       "      <td>25.736000</td>\n",
       "      <td>809.800000</td>\n",
       "      <td>0.004848</td>\n",
       "    </tr>\n",
       "    <tr>\n",
       "      <th>2802</th>\n",
       "      <td>24.330000</td>\n",
       "      <td>25.700000</td>\n",
       "      <td>817.000000</td>\n",
       "      <td>0.004841</td>\n",
       "    </tr>\n",
       "    <tr>\n",
       "      <th>2803</th>\n",
       "      <td>24.356667</td>\n",
       "      <td>25.700000</td>\n",
       "      <td>813.000000</td>\n",
       "      <td>0.004849</td>\n",
       "    </tr>\n",
       "    <tr>\n",
       "      <th>2804</th>\n",
       "      <td>24.408333</td>\n",
       "      <td>25.681667</td>\n",
       "      <td>798.000000</td>\n",
       "      <td>0.004860</td>\n",
       "    </tr>\n",
       "  </tbody>\n",
       "</table>\n",
       "<p>2665 rows × 4 columns</p>\n",
       "</div>"
      ],
      "text/plain": [
       "      Temperature   Humidity       Light  HumidityRatio\n",
       "140     23.700000  26.272000  585.200000       0.004764\n",
       "141     23.718000  26.290000  578.400000       0.004773\n",
       "142     23.730000  26.230000  572.666667       0.004765\n",
       "143     23.722500  26.125000  493.750000       0.004744\n",
       "144     23.754000  26.200000  488.600000       0.004767\n",
       "...           ...        ...         ...            ...\n",
       "2800    24.290000  25.700000  808.000000       0.004829\n",
       "2801    24.330000  25.736000  809.800000       0.004848\n",
       "2802    24.330000  25.700000  817.000000       0.004841\n",
       "2803    24.356667  25.700000  813.000000       0.004849\n",
       "2804    24.408333  25.681667  798.000000       0.004860\n",
       "\n",
       "[2665 rows x 4 columns]"
      ]
     },
     "execution_count": 48,
     "metadata": {},
     "output_type": "execute_result"
    }
   ],
   "source": [
    "#Les informations sur le X_extract   ---SALIFOU Mohamed---\n",
    "X_extract"
   ]
  },
  {
   "cell_type": "code",
   "execution_count": 49,
   "id": "4d555771",
   "metadata": {},
   "outputs": [
    {
     "data": {
      "text/plain": [
       "(2665, 4)"
      ]
     },
     "execution_count": 49,
     "metadata": {},
     "output_type": "execute_result"
    }
   ],
   "source": [
    "X_extract.shape"
   ]
  },
  {
   "cell_type": "code",
   "execution_count": 72,
   "id": "109661c2",
   "metadata": {},
   "outputs": [],
   "source": [
    "#Les informations sur le label  ---SALIFOU Mohamed---\n",
    "y = dataset[[\"CO2\"]]"
   ]
  },
  {
   "cell_type": "code",
   "execution_count": 73,
   "id": "0924c57c",
   "metadata": {},
   "outputs": [
    {
     "data": {
      "text/html": [
       "<div>\n",
       "<style scoped>\n",
       "    .dataframe tbody tr th:only-of-type {\n",
       "        vertical-align: middle;\n",
       "    }\n",
       "\n",
       "    .dataframe tbody tr th {\n",
       "        vertical-align: top;\n",
       "    }\n",
       "\n",
       "    .dataframe thead th {\n",
       "        text-align: right;\n",
       "    }\n",
       "</style>\n",
       "<table border=\"1\" class=\"dataframe\">\n",
       "  <thead>\n",
       "    <tr style=\"text-align: right;\">\n",
       "      <th></th>\n",
       "      <th>CO2</th>\n",
       "    </tr>\n",
       "  </thead>\n",
       "  <tbody>\n",
       "    <tr>\n",
       "      <th>140</th>\n",
       "      <td>749.200000</td>\n",
       "    </tr>\n",
       "    <tr>\n",
       "      <th>141</th>\n",
       "      <td>760.400000</td>\n",
       "    </tr>\n",
       "    <tr>\n",
       "      <th>142</th>\n",
       "      <td>769.666667</td>\n",
       "    </tr>\n",
       "    <tr>\n",
       "      <th>143</th>\n",
       "      <td>774.750000</td>\n",
       "    </tr>\n",
       "    <tr>\n",
       "      <th>144</th>\n",
       "      <td>779.000000</td>\n",
       "    </tr>\n",
       "    <tr>\n",
       "      <th>...</th>\n",
       "      <td>...</td>\n",
       "    </tr>\n",
       "    <tr>\n",
       "      <th>2800</th>\n",
       "      <td>1150.250000</td>\n",
       "    </tr>\n",
       "    <tr>\n",
       "      <th>2801</th>\n",
       "      <td>1129.200000</td>\n",
       "    </tr>\n",
       "    <tr>\n",
       "      <th>2802</th>\n",
       "      <td>1125.800000</td>\n",
       "    </tr>\n",
       "    <tr>\n",
       "      <th>2803</th>\n",
       "      <td>1123.000000</td>\n",
       "    </tr>\n",
       "    <tr>\n",
       "      <th>2804</th>\n",
       "      <td>1124.000000</td>\n",
       "    </tr>\n",
       "  </tbody>\n",
       "</table>\n",
       "<p>2665 rows × 1 columns</p>\n",
       "</div>"
      ],
      "text/plain": [
       "              CO2\n",
       "140    749.200000\n",
       "141    760.400000\n",
       "142    769.666667\n",
       "143    774.750000\n",
       "144    779.000000\n",
       "...           ...\n",
       "2800  1150.250000\n",
       "2801  1129.200000\n",
       "2802  1125.800000\n",
       "2803  1123.000000\n",
       "2804  1124.000000\n",
       "\n",
       "[2665 rows x 1 columns]"
      ]
     },
     "execution_count": 73,
     "metadata": {},
     "output_type": "execute_result"
    }
   ],
   "source": [
    "y"
   ]
  },
  {
   "cell_type": "code",
   "execution_count": 52,
   "id": "de808b8f",
   "metadata": {},
   "outputs": [],
   "source": [
    "# ---SALIFOU Mohamed---\n",
    "\"\"\"\n",
    "    Les différentes features de notre dataset ne sont pas uniformes\n",
    "    Pour ca on passe à la standardisation de notre dataset pour ne pas fausser les prédictions\n",
    "\"\"\" \n",
    "# import de la bibliotheque StandardScaler de sklearn.preprocessing pour la standardisation\n",
    "from sklearn.preprocessing import StandardScaler\n",
    "\n",
    "scaler = StandardScaler()\n",
    "\n",
    "X_scaled = scaler.fit_transform(X_extract)\n"
   ]
  },
  {
   "cell_type": "code",
   "execution_count": 53,
   "id": "06b06230",
   "metadata": {},
   "outputs": [
    {
     "data": {
      "text/plain": [
       "array([[2.20476235, 0.37681367, 1.56686218, 1.20754022],\n",
       "       [2.22227495, 0.38420166, 1.53968001, 1.22146086],\n",
       "       [2.23395002, 0.35957501, 1.51676171, 1.20916118],\n",
       "       ...,\n",
       "       [2.81770341, 0.14203962, 2.4934545 , 1.33301272],\n",
       "       [2.84364801, 0.14203962, 2.47746498, 1.34579091],\n",
       "       [2.89391566, 0.13451481, 2.41750431, 1.36487235]])"
      ]
     },
     "execution_count": 53,
     "metadata": {},
     "output_type": "execute_result"
    }
   ],
   "source": [
    "X_scaled"
   ]
  },
  {
   "cell_type": "code",
   "execution_count": 69,
   "id": "64bd3bbc",
   "metadata": {},
   "outputs": [],
   "source": [
    "#Maintenant on passe à la définition de notre features  --- SALIFOU Mohamed ---\n",
    "X = np.hstack((X_scaled, np.ones((X_scaled.shape[0], 1))))"
   ]
  },
  {
   "cell_type": "code",
   "execution_count": 70,
   "id": "b1b710af",
   "metadata": {},
   "outputs": [
    {
     "data": {
      "text/plain": [
       "array([[2.20476235, 0.37681367, 1.56686218, 1.20754022, 1.        ],\n",
       "       [2.22227495, 0.38420166, 1.53968001, 1.22146086, 1.        ],\n",
       "       [2.23395002, 0.35957501, 1.51676171, 1.20916118, 1.        ],\n",
       "       ...,\n",
       "       [2.81770341, 0.14203962, 2.4934545 , 1.33301272, 1.        ],\n",
       "       [2.84364801, 0.14203962, 2.47746498, 1.34579091, 1.        ],\n",
       "       [2.89391566, 0.13451481, 2.41750431, 1.36487235, 1.        ]])"
      ]
     },
     "execution_count": 70,
     "metadata": {},
     "output_type": "execute_result"
    }
   ],
   "source": [
    "X"
   ]
  },
  {
   "cell_type": "code",
   "execution_count": 86,
   "id": "c18dd27d",
   "metadata": {},
   "outputs": [
    {
     "data": {
      "text/plain": [
       "(2665, 5)"
      ]
     },
     "execution_count": 86,
     "metadata": {},
     "output_type": "execute_result"
    }
   ],
   "source": [
    "#La dimension de X ---SALIFOU Mohamed---\n",
    "X.shape"
   ]
  },
  {
   "cell_type": "code",
   "execution_count": 87,
   "id": "5fe6b13f",
   "metadata": {},
   "outputs": [],
   "source": [
    "#Definition du model  ---SALIFOU Mohamed---\n",
    "def model(X,theta):\n",
    "    return X.dot(theta)"
   ]
  },
  {
   "cell_type": "code",
   "execution_count": 89,
   "id": "ea39f53a",
   "metadata": {},
   "outputs": [],
   "source": [
    "#Cost function    ---SALIFOU Mohamed---\n",
    "def cost_function(X,y, theta):\n",
    "    m = len(y)\n",
    "    cost = (1/2*m)* np.sum((y - model(X,theta))**2)\n",
    "    return cost"
   ]
  },
  {
   "cell_type": "code",
   "execution_count": 90,
   "id": "b17bbd3d",
   "metadata": {},
   "outputs": [],
   "source": [
    "# grad ---SALIFOU Mohamed---\n",
    "def grad(X,y,theta): \n",
    "    m = len(y)\n",
    "    grad = (1/m)* X.T.dot(model(X,theta)-y)\n",
    "    return grad"
   ]
  },
  {
   "cell_type": "code",
   "execution_count": 91,
   "id": "00001533",
   "metadata": {},
   "outputs": [],
   "source": [
    "#descente de gradient ---SALIFOU Mohamed---\n",
    "def descent_gradient(X,y, theta, learning_rate, n_iterations):\n",
    "    cost_history = np.zeros(n_iterations) # création d'un tableau de stockage pour enregistrer l'évolution du Cout du modele\n",
    "    \n",
    "    for i in range(0,n_iterations):\n",
    "        theta = theta - learning_rate*grad(X,y,theta) # mise a jour du parametre theta (formule du gradient descent)\n",
    "        cost_history[i] = cost_function(X,y,theta) # on enregistre la valeur du Cout au tour i dans cost_history[i]\n",
    "        \n",
    "    return theta, cost_history"
   ]
  },
  {
   "cell_type": "code",
   "execution_count": 105,
   "id": "5ad3f468",
   "metadata": {},
   "outputs": [],
   "source": [
    "learning_rate = 0.15\n",
    "n_iterations = 1000\n",
    "np.random.seed()\n",
    "theta = np.random.randn(X.shape[1], 1)\n",
    "theta_final, cost_history = descent_gradient(X,y,theta,learning_rate,n_iterations)"
   ]
  },
  {
   "cell_type": "code",
   "execution_count": 106,
   "id": "55c83a65",
   "metadata": {},
   "outputs": [
    {
     "data": {
      "text/plain": [
       "array([[ 18.05180003],\n",
       "       [ 81.49997975],\n",
       "       [ 67.30420508],\n",
       "       [141.51011428],\n",
       "       [717.90647012]])"
      ]
     },
     "execution_count": 106,
     "metadata": {},
     "output_type": "execute_result"
    }
   ],
   "source": [
    "#affichage du theta final  ---SALIFOU Mohamed---\n",
    "theta_final"
   ]
  },
  {
   "cell_type": "code",
   "execution_count": 107,
   "id": "ac9aa131",
   "metadata": {},
   "outputs": [
    {
     "data": {
      "image/png": "[encoded data removed]",
      "text/plain": [
       "<Figure size 640x480 with 1 Axes>"
      ]
     },
     "metadata": {},
     "output_type": "display_data"
    }
   ],
   "source": [
    "plt.plot(range(n_iterations), cost_history)\n",
    "plt.show()"
   ]
  },
  {
   "cell_type": "code",
   "execution_count": 98,
   "id": "43729769",
   "metadata": {},
   "outputs": [],
   "source": [
    "# création d'un vecteur prédictions qui contient les prédictions de notre modele final\n",
    "predictions = model(X, theta_final)"
   ]
  },
  {
   "cell_type": "code",
   "execution_count": 108,
   "id": "93559699",
   "metadata": {},
   "outputs": [
    {
     "data": {
      "text/plain": [
       "array([[1064.75248444],\n",
       "       [1065.81124779],\n",
       "       [1060.73181727],\n",
       "       ...,\n",
       "       [1136.80277282],\n",
       "       [1138.00326825],\n",
       "       [1136.9621115 ]])"
      ]
     },
     "execution_count": 108,
     "metadata": {},
     "output_type": "execute_result"
    }
   ],
   "source": [
    "predictions"
   ]
  },
  {
   "cell_type": "code",
   "execution_count": 109,
   "id": "dba3b012",
   "metadata": {},
   "outputs": [],
   "source": [
    "def coef_determination(y, pred):\n",
    "    u = ((y - pred)**2).sum()\n",
    "    v = ((y - y.mean())**2).sum()\n",
    "    return 1 - u/v"
   ]
  },
  {
   "cell_type": "code",
   "execution_count": 110,
   "id": "c27d2b5d",
   "metadata": {},
   "outputs": [
    {
     "data": {
      "text/plain": [
       "CO2    0.951182\n",
       "dtype: float64"
      ]
     },
     "execution_count": 110,
     "metadata": {},
     "output_type": "execute_result"
    }
   ],
   "source": [
    "coef_determination(y, predictions)"
   ]
  },
  {
   "cell_type": "code",
   "execution_count": 111,
   "id": "7103dd30",
   "metadata": {},
   "outputs": [],
   "source": [
    "X_test = np.array([23.700000, 26.272000,585.200000,0.004764,1])\n",
    "pred = model(X_test, theta_final)"
   ]
  },
  {
   "cell_type": "code",
   "execution_count": 112,
   "id": "14d04805",
   "metadata": {},
   "outputs": [
    {
     "data": {
      "text/plain": [
       "array([42673.99656559])"
      ]
     },
     "execution_count": 112,
     "metadata": {},
     "output_type": "execute_result"
    }
   ],
   "source": [
    "pred"
   ]
  },
  {
   "cell_type": "markdown",
   "id": "87e2d92f",
   "metadata": {},
   "source": [
    "# Partie 2\n"
   ]
  },
  {
   "cell_type": "code",
   "execution_count": 196,
   "id": "94def189",
   "metadata": {},
   "outputs": [],
   "source": [
    "#Ici on extrait les données qu'on souhaite utiliser  ---SALIFOU Mohamed---\n",
    "x1 = dataset[\"CO2\"]\n",
    "x2 = dataset[\"Light\"]\n",
    "\n",
    "features = dataset[[\"CO2\", \"Light\"]].values\n",
    "target = dataset[[\"Occupancy\"]].values"
   ]
  },
  {
   "cell_type": "code",
   "execution_count": 211,
   "id": "1d068587",
   "metadata": {},
   "outputs": [
    {
     "data": {
      "text/plain": [
       "array([[ 749.2       ,  585.2       ],\n",
       "       [ 760.4       ,  578.4       ],\n",
       "       [ 769.66666667,  572.66666667],\n",
       "       ...,\n",
       "       [1125.8       ,  817.        ],\n",
       "       [1123.        ,  813.        ],\n",
       "       [1124.        ,  798.        ]])"
      ]
     },
     "execution_count": 211,
     "metadata": {},
     "output_type": "execute_result"
    }
   ],
   "source": [
    "features"
   ]
  },
  {
   "cell_type": "code",
   "execution_count": 197,
   "id": "6ae8e5a8",
   "metadata": {},
   "outputs": [],
   "source": [
    "# On passe à la standardisation pour uniformiser les données\n",
    "X_scaled_1 = scaler.fit_transform(features)"
   ]
  },
  {
   "cell_type": "code",
   "execution_count": 198,
   "id": "e58a1b6a",
   "metadata": {},
   "outputs": [
    {
     "data": {
      "text/plain": [
       "array([[0.10694007, 1.56686218],\n",
       "       [0.14521407, 1.53968001],\n",
       "       [0.17688126, 1.51676171],\n",
       "       ...,\n",
       "       [1.39390353, 2.4934545 ],\n",
       "       [1.38433502, 2.47746498],\n",
       "       [1.38775235, 2.41750431]])"
      ]
     },
     "execution_count": 198,
     "metadata": {},
     "output_type": "execute_result"
    }
   ],
   "source": [
    "X_scaled_1"
   ]
  },
  {
   "cell_type": "code",
   "execution_count": 199,
   "id": "9f9a863f",
   "metadata": {},
   "outputs": [],
   "source": [
    "X_main = np.hstack((X_scaled_1, np.ones((X_scaled_1.shape[0], 1))))"
   ]
  },
  {
   "cell_type": "code",
   "execution_count": 200,
   "id": "2de4edc5",
   "metadata": {},
   "outputs": [
    {
     "data": {
      "text/plain": [
       "array([[0.10694007, 1.56686218, 1.        ],\n",
       "       [0.14521407, 1.53968001, 1.        ],\n",
       "       [0.17688126, 1.51676171, 1.        ],\n",
       "       ...,\n",
       "       [1.39390353, 2.4934545 , 1.        ],\n",
       "       [1.38433502, 2.47746498, 1.        ],\n",
       "       [1.38775235, 2.41750431, 1.        ]])"
      ]
     },
     "execution_count": 200,
     "metadata": {},
     "output_type": "execute_result"
    }
   ],
   "source": [
    "X_main"
   ]
  },
  {
   "cell_type": "code",
   "execution_count": 201,
   "id": "f7757530",
   "metadata": {},
   "outputs": [
    {
     "data": {
      "image/png": "[encoded data removed]",
      "text/plain": [
       "<Figure size 640x480 with 2 Axes>"
      ]
     },
     "metadata": {},
     "output_type": "display_data"
    }
   ],
   "source": [
    "dataset.plot.scatter(x='Light',y='CO2', c='Occupancy', colormap='winter')\n",
    "plt.show()\n"
   ]
  },
  {
   "cell_type": "code",
   "execution_count": 202,
   "id": "7634f937",
   "metadata": {},
   "outputs": [],
   "source": [
    "# La fonction sigmoide\n",
    "def sigmoid(x):\n",
    "    return 1 / (1 + np.exp(-x))"
   ]
  },
  {
   "cell_type": "code",
   "execution_count": 203,
   "id": "50ebf67b",
   "metadata": {},
   "outputs": [],
   "source": [
    "def initialisation(X):\n",
    "    W = np.random.randn(X.shape[1], 1)\n",
    "    b = np.random.randn(1)\n",
    "    return (W, b)"
   ]
  },
  {
   "cell_type": "code",
   "execution_count": 204,
   "id": "c761f049",
   "metadata": {},
   "outputs": [],
   "source": [
    "# Modèle\n",
    "def modele(X, W, b):\n",
    "    Z = X.dot(W) + b\n",
    "    A = sigmoid(Z)\n",
    "    return A"
   ]
  },
  {
   "cell_type": "code",
   "execution_count": 205,
   "id": "38136f9b",
   "metadata": {},
   "outputs": [],
   "source": [
    "#Fonction cout\n",
    "def log_loss(y, A):\n",
    "    return 1/len(y) * np.sum(-y * np.log(A) - (1 - y) * np.log(1 - A))"
   ]
  },
  {
   "cell_type": "code",
   "execution_count": 206,
   "id": "76a37055",
   "metadata": {},
   "outputs": [],
   "source": [
    "#descente de gradient\n",
    "def gradients(X, A, y):\n",
    "    dW = 1/len(y) * np.dot(X.T, A - y)\n",
    "    db = 1/len(y) * np.sum(A - y)\n",
    "    return (dW, db)"
   ]
  },
  {
   "cell_type": "code",
   "execution_count": 207,
   "id": "c2b51c8e",
   "metadata": {},
   "outputs": [],
   "source": [
    "#Optimisation\n",
    "def optimisation(X, W, b, A, y, learning_rate):\n",
    "    dW, db = gradients(X, A, y)\n",
    "    W = W - learning_rate * dW\n",
    "    b = b - learning_rate * db\n",
    "    return (W, b)"
   ]
  },
  {
   "cell_type": "code",
   "execution_count": 208,
   "id": "17e80ac6",
   "metadata": {},
   "outputs": [],
   "source": [
    "#prediction\n",
    "def predict(X, W, b):\n",
    "    A = modele(X, W, b)\n",
    "    print(A)\n",
    "    return A >= 0.5"
   ]
  },
  {
   "cell_type": "code",
   "execution_count": 209,
   "id": "1913f00c",
   "metadata": {},
   "outputs": [],
   "source": [
    "#modele final\n",
    "def regression_logistique(X, y, learning_rate=0.1, n_iter=10000):\n",
    "  # Initialisation\n",
    "    W, b = initialisation(X)\n",
    "    loss_history = []\n",
    "  # Entrainement\n",
    "    for i in range(n_iter):\n",
    "        A = modele(X, W, b)\n",
    "        loss_history.append(log_loss(y, A))\n",
    "        W, b = optimisation(X, W, b, A, y, learning_rate=0.1)\n",
    "\n",
    "  # Prediction\n",
    "    plt.plot(loss_history)\n",
    "    plt.xlabel('n_iteration')\n",
    "    plt.ylabel('Log_loss')\n",
    "    plt.title('Evolution des erreurs')\n",
    "    return W,b"
   ]
  },
  {
   "cell_type": "code",
   "execution_count": 218,
   "id": "7200d874",
   "metadata": {},
   "outputs": [
    {
     "data": {
      "image/png": "[encoded data removed]",
      "text/plain": [
       "<Figure size 640x480 with 1 Axes>"
      ]
     },
     "metadata": {},
     "output_type": "display_data"
    }
   ],
   "source": [
    "W,b=regression_logistique(X_scaled_1, target)"
   ]
  },
  {
   "cell_type": "code",
   "execution_count": 220,
   "id": "cb4619c1",
   "metadata": {},
   "outputs": [
    {
     "name": "stdout",
     "output_type": "stream",
     "text": [
      "[[0.99150066]\n",
      " [0.99064565]\n",
      " [0.9898548 ]\n",
      " ...\n",
      " [0.99994637]\n",
      " [0.99994196]\n",
      " [0.99992406]]\n",
      "Accuracy= 0.9782363977485928\n"
     ]
    }
   ],
   "source": [
    "from sklearn.metrics import accuracy_score\n",
    "y_pred = predict(X_scaled_1, W, b)\n",
    "print(\"Accuracy=\",accuracy_score(target, y_pred))"
   ]
  },
  {
   "cell_type": "code",
   "execution_count": 223,
   "id": "a032c0d9",
   "metadata": {},
   "outputs": [
    {
     "name": "stdout",
     "output_type": "stream",
     "text": [
      "[[0.99150066]\n",
      " [0.99064565]\n",
      " [0.9898548 ]\n",
      " ...\n",
      " [0.99994637]\n",
      " [0.99994196]\n",
      " [0.99992406]]\n",
      "[[1638   55]\n",
      " [   3  969]]\n"
     ]
    }
   ],
   "source": [
    "#Voir la matrice de confusion\n",
    "#SALIFOU Mohamed\n",
    "from sklearn.metrics import confusion_matrix\n",
    "y_pred = predict(X_scaled_1, W, b)\n",
    "cm = confusion_matrix(target, y_pred)\n",
    "print(cm)"
   ]
  },
  {
   "cell_type": "code",
   "execution_count": 242,
   "id": "ad00532e",
   "metadata": {},
   "outputs": [
    {
     "data": {
      "image/png": "[encoded data removed]",
      "text/plain": [
       "<Figure size 900x600 with 1 Axes>"
      ]
     },
     "metadata": {},
     "output_type": "display_data"
    }
   ],
   "source": [
    "# Visualiser le dataset\n",
    "fig, ax = plt.subplots(figsize=(9, 6))\n",
    "ax.scatter(X_scaled_1[:,0], X_scaled_1[:, 1], c=target, cmap='winter')\n",
    "\n",
    "# Dessiner la frontière de décision\n",
    "x1 = np.linspace(-2, 10, 1000)\n",
    "x2 = ( - W[0] * x1 - b) / W[1]\n",
    "ax.plot(x1, x2, c='orange', lw=3)\n",
    "\n",
    "# Prédire la classe de nouveaux éléments\n",
    "\n",
    "\n",
    "plt.show()"
   ]
  },
  {
   "cell_type": "markdown",
   "id": "e9123a42",
   "metadata": {},
   "source": [
    "Réaliser un modèle mathématique de régression logistique pour la classification\n",
    "binaire de la 'Occupancy’ en fonction de 'Temperature', ' Humidity ', 'Light', ‘CO2’ et\n",
    "‘HumidityRatio’"
   ]
  },
  {
   "cell_type": "code",
   "execution_count": 187,
   "id": "59c2d7b6",
   "metadata": {},
   "outputs": [],
   "source": [
    "# SALIFOU Mohamed  \n",
    "# Extrait des features de notre dataset\n",
    "features_1 = dataset[[\"Temperature\", \"Humidity\", \"Light\", \"HumidityRatio\", \"CO2\"]]\n"
   ]
  },
  {
   "cell_type": "code",
   "execution_count": 188,
   "id": "c636d617",
   "metadata": {},
   "outputs": [
    {
     "data": {
      "text/html": [
       "<div>\n",
       "<style scoped>\n",
       "    .dataframe tbody tr th:only-of-type {\n",
       "        vertical-align: middle;\n",
       "    }\n",
       "\n",
       "    .dataframe tbody tr th {\n",
       "        vertical-align: top;\n",
       "    }\n",
       "\n",
       "    .dataframe thead th {\n",
       "        text-align: right;\n",
       "    }\n",
       "</style>\n",
       "<table border=\"1\" class=\"dataframe\">\n",
       "  <thead>\n",
       "    <tr style=\"text-align: right;\">\n",
       "      <th></th>\n",
       "      <th>Temperature</th>\n",
       "      <th>Humidity</th>\n",
       "      <th>Light</th>\n",
       "      <th>HumidityRatio</th>\n",
       "      <th>CO2</th>\n",
       "    </tr>\n",
       "  </thead>\n",
       "  <tbody>\n",
       "    <tr>\n",
       "      <th>140</th>\n",
       "      <td>23.700000</td>\n",
       "      <td>26.272000</td>\n",
       "      <td>585.200000</td>\n",
       "      <td>0.004764</td>\n",
       "      <td>749.200000</td>\n",
       "    </tr>\n",
       "    <tr>\n",
       "      <th>141</th>\n",
       "      <td>23.718000</td>\n",
       "      <td>26.290000</td>\n",
       "      <td>578.400000</td>\n",
       "      <td>0.004773</td>\n",
       "      <td>760.400000</td>\n",
       "    </tr>\n",
       "    <tr>\n",
       "      <th>142</th>\n",
       "      <td>23.730000</td>\n",
       "      <td>26.230000</td>\n",
       "      <td>572.666667</td>\n",
       "      <td>0.004765</td>\n",
       "      <td>769.666667</td>\n",
       "    </tr>\n",
       "    <tr>\n",
       "      <th>143</th>\n",
       "      <td>23.722500</td>\n",
       "      <td>26.125000</td>\n",
       "      <td>493.750000</td>\n",
       "      <td>0.004744</td>\n",
       "      <td>774.750000</td>\n",
       "    </tr>\n",
       "    <tr>\n",
       "      <th>144</th>\n",
       "      <td>23.754000</td>\n",
       "      <td>26.200000</td>\n",
       "      <td>488.600000</td>\n",
       "      <td>0.004767</td>\n",
       "      <td>779.000000</td>\n",
       "    </tr>\n",
       "    <tr>\n",
       "      <th>...</th>\n",
       "      <td>...</td>\n",
       "      <td>...</td>\n",
       "      <td>...</td>\n",
       "      <td>...</td>\n",
       "      <td>...</td>\n",
       "    </tr>\n",
       "    <tr>\n",
       "      <th>2800</th>\n",
       "      <td>24.290000</td>\n",
       "      <td>25.700000</td>\n",
       "      <td>808.000000</td>\n",
       "      <td>0.004829</td>\n",
       "      <td>1150.250000</td>\n",
       "    </tr>\n",
       "    <tr>\n",
       "      <th>2801</th>\n",
       "      <td>24.330000</td>\n",
       "      <td>25.736000</td>\n",
       "      <td>809.800000</td>\n",
       "      <td>0.004848</td>\n",
       "      <td>1129.200000</td>\n",
       "    </tr>\n",
       "    <tr>\n",
       "      <th>2802</th>\n",
       "      <td>24.330000</td>\n",
       "      <td>25.700000</td>\n",
       "      <td>817.000000</td>\n",
       "      <td>0.004841</td>\n",
       "      <td>1125.800000</td>\n",
       "    </tr>\n",
       "    <tr>\n",
       "      <th>2803</th>\n",
       "      <td>24.356667</td>\n",
       "      <td>25.700000</td>\n",
       "      <td>813.000000</td>\n",
       "      <td>0.004849</td>\n",
       "      <td>1123.000000</td>\n",
       "    </tr>\n",
       "    <tr>\n",
       "      <th>2804</th>\n",
       "      <td>24.408333</td>\n",
       "      <td>25.681667</td>\n",
       "      <td>798.000000</td>\n",
       "      <td>0.004860</td>\n",
       "      <td>1124.000000</td>\n",
       "    </tr>\n",
       "  </tbody>\n",
       "</table>\n",
       "<p>2665 rows × 5 columns</p>\n",
       "</div>"
      ],
      "text/plain": [
       "      Temperature   Humidity       Light  HumidityRatio          CO2\n",
       "140     23.700000  26.272000  585.200000       0.004764   749.200000\n",
       "141     23.718000  26.290000  578.400000       0.004773   760.400000\n",
       "142     23.730000  26.230000  572.666667       0.004765   769.666667\n",
       "143     23.722500  26.125000  493.750000       0.004744   774.750000\n",
       "144     23.754000  26.200000  488.600000       0.004767   779.000000\n",
       "...           ...        ...         ...            ...          ...\n",
       "2800    24.290000  25.700000  808.000000       0.004829  1150.250000\n",
       "2801    24.330000  25.736000  809.800000       0.004848  1129.200000\n",
       "2802    24.330000  25.700000  817.000000       0.004841  1125.800000\n",
       "2803    24.356667  25.700000  813.000000       0.004849  1123.000000\n",
       "2804    24.408333  25.681667  798.000000       0.004860  1124.000000\n",
       "\n",
       "[2665 rows x 5 columns]"
      ]
     },
     "execution_count": 188,
     "metadata": {},
     "output_type": "execute_result"
    }
   ],
   "source": [
    "features_1"
   ]
  },
  {
   "cell_type": "code",
   "execution_count": 189,
   "id": "9b0cf86e",
   "metadata": {},
   "outputs": [],
   "source": [
    "#SALIFOU Mohamed\n",
    "#Standariser la dataset\n",
    "X_scaled_2 = scaler.fit_transform(features_1)"
   ]
  },
  {
   "cell_type": "code",
   "execution_count": 226,
   "id": "d2375475",
   "metadata": {},
   "outputs": [
    {
     "data": {
      "image/png": "[encoded data removed]",
      "text/plain": [
       "<Figure size 640x480 with 1 Axes>"
      ]
     },
     "metadata": {},
     "output_type": "display_data"
    }
   ],
   "source": [
    "W,b=regression_logistique(X_scaled_2, target)"
   ]
  },
  {
   "cell_type": "code",
   "execution_count": 228,
   "id": "08e7892b",
   "metadata": {},
   "outputs": [
    {
     "name": "stdout",
     "output_type": "stream",
     "text": [
      "[[0.98723886]\n",
      " [0.985235  ]\n",
      " [0.98229096]\n",
      " ...\n",
      " [0.99944439]\n",
      " [0.99938862]\n",
      " [0.99913036]]\n",
      "Accuracy= 0.9786116322701689\n"
     ]
    }
   ],
   "source": [
    "#SALIFOU Mohamed\n",
    "from sklearn.metrics import accuracy_score\n",
    "y_pred_1 = predict(X_scaled_2, W, b)\n",
    "print(\"Accuracy=\",accuracy_score(target, y_pred_1))"
   ]
  },
  {
   "cell_type": "code",
   "execution_count": 229,
   "id": "e66c4b8e",
   "metadata": {},
   "outputs": [
    {
     "name": "stdout",
     "output_type": "stream",
     "text": [
      "[[0.98723886]\n",
      " [0.985235  ]\n",
      " [0.98229096]\n",
      " ...\n",
      " [0.99944439]\n",
      " [0.99938862]\n",
      " [0.99913036]]\n",
      "[[1639   54]\n",
      " [   3  969]]\n"
     ]
    }
   ],
   "source": [
    "#Voir la matrice de confusion\n",
    "#SALIFOU Mohamed\n",
    "from sklearn.metrics import confusion_matrix\n",
    "y_pred = predict(X_scaled_2, W, b)\n",
    "cm = confusion_matrix(target, y_pred)\n",
    "print(cm)"
   ]
  },
  {
   "cell_type": "code",
   "execution_count": null,
   "id": "f44ce28a",
   "metadata": {},
   "outputs": [],
   "source": []
  }
 ],
 "metadata": {
  "kernelspec": {
   "display_name": "Python 3 (ipykernel)",
   "language": "python",
   "name": "python3"
  },
  "language_info": {
   "codemirror_mode": {
    "name": "ipython",
    "version": 3
   },
   "file_extension": ".py",
   "mimetype": "text/x-python",
   "name": "python",
   "nbconvert_exporter": "python",
   "pygments_lexer": "ipython3",
   "version": "3.10.9"
  }
 },
 "nbformat": 4,
 "nbformat_minor": 5
}
